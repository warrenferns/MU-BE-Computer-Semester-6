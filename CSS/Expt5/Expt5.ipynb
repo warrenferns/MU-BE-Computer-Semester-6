{
 "cells": [
  {
   "cell_type": "code",
   "execution_count": 1,
   "id": "worthy-particular",
   "metadata": {},
   "outputs": [
    {
     "name": "stdout",
     "output_type": "stream",
     "text": [
      "IMPLEMENTATION OF DIFFIE-HELLMAN KEY EXCHANGE ALGORITHM\n",
      "\n",
      "Enter the value of N :24\n",
      "Enter the value of G : 8\n",
      "Enter the private key for Alice: 5\n",
      "Enter the private key for Bob: 4\n",
      "Secret key for the Alice is : 16\n",
      "Secret Key for the Bob is : 16\n",
      "\n"
     ]
    }
   ],
   "source": [
    "print(\"IMPLEMENTATION OF DIFFIE-HELLMAN KEY EXCHANGE ALGORITHM\\n\")\n",
    "N = int(input(\"Enter the value of N :\"))\n",
    "G = int(input(\"Enter the value of G : \"))\n",
    "\n",
    "a = int(input(\"Enter the private key for Alice: \"))\n",
    "b = int(input(\"Enter the private key for Bob: \"))\n",
    "x = int(pow(G,a,N))\n",
    "\n",
    "y = int(pow(G,b,N))\n",
    "ka = int(pow(y,a,N))\n",
    "kb = int(pow(x,b,N))\n",
    "print('Secret key for the Alice is : %d'%(ka))\n",
    "print('Secret Key for the Bob is : %d\\n'%(kb))"
   ]
  },
  {
   "cell_type": "code",
   "execution_count": null,
   "id": "abstract-easter",
   "metadata": {},
   "outputs": [],
   "source": []
  }
 ],
 "metadata": {
  "kernelspec": {
   "display_name": "Python 3",
   "language": "python",
   "name": "python3"
  },
  "language_info": {
   "codemirror_mode": {
    "name": "ipython",
    "version": 3
   },
   "file_extension": ".py",
   "mimetype": "text/x-python",
   "name": "python",
   "nbconvert_exporter": "python",
   "pygments_lexer": "ipython3",
   "version": "3.9.2"
  }
 },
 "nbformat": 4,
 "nbformat_minor": 5
}
