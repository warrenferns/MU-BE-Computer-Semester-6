{
 "cells": [
  {
   "cell_type": "code",
   "execution_count": 3,
   "id": "crude-repository",
   "metadata": {},
   "outputs": [
    {
     "name": "stdout",
     "output_type": "stream",
     "text": [
      "Enter the value of p = 3\n",
      "Enter the value of q = 7\n",
      "\n",
      "The value of toitent =  12\n",
      "\n",
      "The value of e =  5\n",
      "\n",
      "Enter the value of k = 2\n",
      "The private key (d) =  5\n",
      "\n",
      "The value of c (encrypted data) =  12\n",
      "The value of p (decrypted data) =  3\n"
     ]
    }
   ],
   "source": [
    "import random\n",
    "import math\n",
    "p = int(input(\"Enter the value of p = \"))\n",
    "q = int(input(\"Enter the value of q = \"))\n",
    "n = p * q\n",
    "toitent = (p-1) * (q-1)\n",
    "print(\"\\nThe value of toitent = \", toitent)\n",
    "e = 0\n",
    "for i in range(2, toitent):\n",
    "    if math.gcd(i, toitent) == 1:\n",
    "        e = i\n",
    "        break\n",
    "print(\"\\nThe value of e = \", e)\n",
    "#k = 2\n",
    "k = int(input(\"\\nEnter the value of k = \"))\n",
    "d = int((k*toitent +1)/e)\n",
    "print(\"The private key (d) = \", d)\n",
    "c = (p**e)%n\n",
    "print(\"\\nThe value of c (encrypted data) = \", c)\n",
    "p = (c**d)%n\n",
    "print(\"The value of p (decrypted data) = \", p)"
   ]
  },
  {
   "cell_type": "code",
   "execution_count": null,
   "id": "funky-syndicate",
   "metadata": {},
   "outputs": [],
   "source": []
  }
 ],
 "metadata": {
  "kernelspec": {
   "display_name": "Python 3",
   "language": "python",
   "name": "python3"
  },
  "language_info": {
   "codemirror_mode": {
    "name": "ipython",
    "version": 3
   },
   "file_extension": ".py",
   "mimetype": "text/x-python",
   "name": "python",
   "nbconvert_exporter": "python",
   "pygments_lexer": "ipython3",
   "version": "3.9.2"
  }
 },
 "nbformat": 4,
 "nbformat_minor": 5
}
