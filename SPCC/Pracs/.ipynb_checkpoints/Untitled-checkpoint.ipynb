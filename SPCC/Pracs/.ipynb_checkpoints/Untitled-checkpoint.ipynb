{
 "cells": [
  {
   "cell_type": "markdown",
   "id": "looking-reasoning",
   "metadata": {},
   "source": [
    "# Intermediate Code Generation"
   ]
  },
  {
   "cell_type": "code",
   "execution_count": 4,
   "id": "toxic-driver",
   "metadata": {},
   "outputs": [
    {
     "name": "stdout",
     "output_type": "stream",
     "text": [
      "1: Assignment 2: Arithmatic 3: Relational 4: Exit\n",
      "4\n"
     ]
    }
   ],
   "source": [
    "while(True):\n",
    "    print(\"1: Assignment 2: Arithmatic 3: Relational 4: Exit\")\n",
    "    code = int(input())\n",
    "    if code == 1:\n",
    "        str = input(\"Enter assignment eqn: \")\n",
    "        str_ls = str.split('=')\n",
    "        a = str_ls[0]\n",
    "        b = str_ls[1]\n",
    "        print(f\"temp = {a}\")\n",
    "        print(f\"{b} = temp\")\n",
    "    elif code == 2:\n",
    "        str = input(\"Enter arithnatic eqn: \")\n",
    "        first = str[:3]\n",
    "        second = str[3:]\n",
    "        print(f\"temp = {first}\")\n",
    "        print(f\"temp1 = temp{second}\")\n",
    "    elif code == 3:\n",
    "        str = input(\"Enter relational eqn: \")\n",
    "        str_ls = str.split(' ')\n",
    "        a = str[:1]\n",
    "        op = str[1:3]\n",
    "        b = str[3:]\n",
    "        address = 100\n",
    "        print(f\"{address} if {a}{op}{b} goto {address+3}\")\n",
    "        address = address+1\n",
    "        print(f\"{address} t=0\")\n",
    "        address = address+1\n",
    "        print(f\"{address} goto {address+2}\")\n",
    "        address = address+1\n",
    "        print(f\"{address} t=1\")\n",
    "    else:\n",
    "        break"
   ]
  },
  {
   "cell_type": "markdown",
   "id": "palestinian-parliament",
   "metadata": {},
   "source": [
    "# Lexical Analyzer"
   ]
  },
  {
   "cell_type": "code",
   "execution_count": 14,
   "id": "false-alarm",
   "metadata": {},
   "outputs": [
    {
     "name": "stdout",
     "output_type": "stream",
     "text": [
      "Keywords:  ['int', 'float', 'float', 'char']\n",
      "Operators:  ['=']\n",
      "Special Symbols:  {';', ','}\n",
      "Identifier:  ['ab', 'c', 'b', 'x', 'y', 'ch']\n",
      "Constant:  ['13.2']\n",
      "Invalid Token:  ['%']\n"
     ]
    }
   ],
   "source": [
    "fi = open('C:\\\\College\\\\Assignments\\\\SEM6\\\\SPCC\\\\Pracs\\\\input.txt','r')\n",
    "keyword=[\"int\",\"float\",\"char\",\"string\",\"double\"]\n",
    "operators = [\"+\",\"-\",\"*\",\"/\",\"=\"]\n",
    "special_symbols = [\",\",\";\"]\n",
    "identifier, key, op, const, num, sy, inv = [], [], [], [], [], [], []\n",
    "f=0\n",
    "\n",
    "def isfloat(num):\n",
    "    try:\n",
    "        float(num)\n",
    "        return True\n",
    "    except ValueError:\n",
    "        return False\n",
    "    \n",
    "for i in fi:\n",
    "    l = i.split(\" \")\n",
    "    for j in l:\n",
    "        if j==\";\\n\":\n",
    "            j=\";\"\n",
    "        if j in keyword:\n",
    "            key.append(j)\n",
    "        elif j in operators:\n",
    "            op.append(j)\n",
    "        elif j in special_symbols:\n",
    "            sy.append(j)\n",
    "        elif j.isdigit():\n",
    "            num.append(j)\n",
    "        elif j.isalnum():\n",
    "            const.append(j)\n",
    "        elif isfloat(j) :\n",
    "            num.append(j)\n",
    "        else:\n",
    "            if not j.isalnum():\n",
    "                inv.append(j)\n",
    "\n",
    "print(\"Keywords: \",key)\n",
    "print(\"Operators: \",op)\n",
    "print(\"Special Symbols: \",set(sy))\n",
    "print(\"Identifier: \",const)\n",
    "print(\"Constant: \",num)\n",
    "print(\"Invalid Token: \",inv)"
   ]
  },
  {
   "cell_type": "markdown",
   "id": "armed-munich",
   "metadata": {},
   "source": [
    "# Pass 1 Macroprocessor"
   ]
  },
  {
   "cell_type": "code",
   "execution_count": 15,
   "id": "hydraulic-expense",
   "metadata": {},
   "outputs": [
    {
     "name": "stdout",
     "output_type": "stream",
     "text": [
      "['INCR', '**']\n"
     ]
    }
   ],
   "source": [
    "from asyncio.windows_events import NULL\n",
    "input1 = open('C:\\\\College\\\\Assignments\\\\SEM6\\\\SPCC\\\\Pracs\\\\macroinput.txt', 'r+')\n",
    "mnt = open('C:\\\\College\\\\Assignments\\\\SEM6\\\\SPCC\\\\Pracs\\\\macront.txt', 'w')\n",
    "mdt = open('C:\\\\College\\\\Assignments\\\\SEM6\\\\SPCC\\\\Pracs\\\\macrodt.txt', 'w')\n",
    "out = open('C:\\\\College\\\\Assignments\\\\SEM6\\\\SPCC\\\\Pracs\\\\macroout.txt', 'w')\n",
    "\n",
    "\n",
    "count = 0\n",
    "isNextMacro = False\n",
    "isToWriteInMDT = False\n",
    "isFoundMacroName = False\n",
    "macroName = \"\"\n",
    "Lines = input1.readlines()\n",
    "start = False\n",
    "\n",
    "for line in Lines:\n",
    "    split = line.strip().split(\" \")\n",
    "    temp = False\n",
    "    \n",
    "    if(isToWriteInMDT):\n",
    "        mdt.writelines(split[0]+\" \"+split[1]+\"\\n\")\n",
    "    if(split[0] =='MEND'):\n",
    "        isToWriteInMDT = False\n",
    "        continue\n",
    "    if(split[0] =='MACRO'):\n",
    "        isNextMacro = True\n",
    "        continue\n",
    "    if(isNextMacro):\n",
    "        print(\"{}\".format(split))\n",
    "        mnt.writelines(split[0]+\"\\n\")\n",
    "        mdt.writelines(split[0]+\" \"+split[1]+\"\\n\")\n",
    "        isToWriteInMDT = True\n",
    "        isNextMacro = False\n",
    "\n",
    "#     if(split[1]==\"START\"):\n",
    "#         start = True\n",
    "#     if(start==True):\n",
    "#         mnt2Lines = mnt.readlines()\n",
    "#         mdt2Lines = mdt.readlines()\n",
    "#         for mntline in mnt2Lines:\n",
    "#             mntsplit = mntline.strip().split(\" \")\n",
    "#             if(mntsplit[0]==split[0]):\n",
    "#             # print(\"found {}\".format(check))\n",
    "#                 found = False\n",
    "#                 temp = True\n",
    "#                 for mdtline in mdt2Lines:\n",
    "#                     split2 = mdtline.strip().split(\" \")\n",
    "#                     if(split2[0]==\"MEND\"):\n",
    "#                         found = False\n",
    "#                     if(found==True):\n",
    "#                         print(\"{}\".format(mdtline))\n",
    "#                         out.writelines(\"** \"+mdtline)\n",
    "#                     if(split2[0]==check):\n",
    "#                         found = True\n",
    "#                 isFoundMacroName = True\n",
    "#                 macroName = check\n",
    "#         # out2.writelines(split)\n",
    "#         if(len(split)==2 and temp==False):\n",
    "#             out.writelines(split[0]+\" \"+split[1]+\"\\n\")\n",
    "#         # isFoundMacroName = True\n",
    "#         elif(len(split)==3 and temp ==False ):\n",
    "#         # isFoundMacroName = True\n",
    "#             out.writelines(split[0]+\" \"+split[1]+\" \"+split[2]+\"\\n\")\n",
    "#         # print(\"{}\".format(check))"
   ]
  },
  {
   "cell_type": "code",
   "execution_count": null,
   "id": "rural-accessory",
   "metadata": {},
   "outputs": [],
   "source": []
  }
 ],
 "metadata": {
  "kernelspec": {
   "display_name": "Python 3",
   "language": "python",
   "name": "python3"
  },
  "language_info": {
   "codemirror_mode": {
    "name": "ipython",
    "version": 3
   },
   "file_extension": ".py",
   "mimetype": "text/x-python",
   "name": "python",
   "nbconvert_exporter": "python",
   "pygments_lexer": "ipython3",
   "version": "3.9.2"
  }
 },
 "nbformat": 4,
 "nbformat_minor": 5
}
